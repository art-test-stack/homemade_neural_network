{
 "cells": [
  {
   "cell_type": "code",
   "execution_count": null,
   "metadata": {},
   "outputs": [],
   "source": [
    "import matplotlib.pyplot as plt\n",
    "from model import Model\n",
    "from sklearn.datasets import make_circles"
   ]
  },
  {
   "attachments": {},
   "cell_type": "markdown",
   "metadata": {},
   "source": [
    "CREATE DATA"
   ]
  },
  {
   "cell_type": "code",
   "execution_count": null,
   "metadata": {},
   "outputs": [],
   "source": [
    "X, y = make_circles(n_samples=100, noise=0.1, factor=0.3, random_state=3)\n",
    "X = X.T\n",
    "y = y.reshape((1, y.shape[0]))\n",
    "\n",
    "print('X dimension : ', X.shape)\n",
    "print('y dim :', y.shape)\n",
    "\n",
    "plt.scatter(X[0,:], X[1,:], c=y, cmap='summer')\n",
    "plt.show()\n"
   ]
  },
  {
   "attachments": {},
   "cell_type": "markdown",
   "metadata": {},
   "source": [
    "TRAIN MODEL"
   ]
  },
  {
   "cell_type": "code",
   "execution_count": null,
   "metadata": {},
   "outputs": [],
   "source": [
    "model = Model(X.shape[0], y.shape[0])\n",
    "params = model.train_model(X, y, n_iter=1000, lr=0.1)"
   ]
  }
 ],
 "metadata": {
  "language_info": {
   "name": "python"
  },
  "orig_nbformat": 4
 },
 "nbformat": 4,
 "nbformat_minor": 2
}
